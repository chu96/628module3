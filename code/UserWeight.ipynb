{
 "cells": [
  {
   "cell_type": "markdown",
   "metadata": {},
   "source": [
    "# User Weight\n",
    "This notebook is to find the 'validity' of users based on information such as stars, numbers of different dimensions index of compliment, number of review, etc.\n",
    "\n",
    "It's said that \"elite\" users are entitled by Yelp Company who are active in Yelp community. It's intuitive to view the comments from elite user to be more faithful and crucial to a business shop. So, the main idea for our model is to predict the possibility of a user to be elite user based on data including well-written reviews, high-quality photos, detailed personal profile and history of playing with others.  Overall, we would increase the weight for possible elite users' comment and scores they gave in the latter analysis."
   ]
  },
  {
   "cell_type": "code",
   "execution_count": 1,
   "metadata": {},
   "outputs": [],
   "source": [
    "import pandas as pd\n",
    "import numpy as np\n",
    "import re\n",
    "import nltk\n",
    "from nltk.corpus import stopwords\n",
    "from nltk.stem import PorterStemmer\n",
    "import matplotlib as mplPorterStemmer\n",
    "import collections"
   ]
  },
  {
   "cell_type": "markdown",
   "metadata": {},
   "source": [
    "## 1. Basic Information"
   ]
  },
  {
   "cell_type": "code",
   "execution_count": 2,
   "metadata": {},
   "outputs": [
    {
     "data": {
      "text/html": [
       "<div>\n",
       "<style scoped>\n",
       "    .dataframe tbody tr th:only-of-type {\n",
       "        vertical-align: middle;\n",
       "    }\n",
       "\n",
       "    .dataframe tbody tr th {\n",
       "        vertical-align: top;\n",
       "    }\n",
       "\n",
       "    .dataframe thead th {\n",
       "        text-align: right;\n",
       "    }\n",
       "</style>\n",
       "<table border=\"1\" class=\"dataframe\">\n",
       "  <thead>\n",
       "    <tr style=\"text-align: right;\">\n",
       "      <th></th>\n",
       "      <th>average_stars</th>\n",
       "      <th>compliment_cool</th>\n",
       "      <th>compliment_cute</th>\n",
       "      <th>compliment_hot</th>\n",
       "      <th>compliment_list</th>\n",
       "      <th>compliment_more</th>\n",
       "      <th>compliment_note</th>\n",
       "      <th>compliment_photos</th>\n",
       "      <th>compliment_plain</th>\n",
       "      <th>compliment_profile</th>\n",
       "      <th>...</th>\n",
       "      <th>cool</th>\n",
       "      <th>elite</th>\n",
       "      <th>fans</th>\n",
       "      <th>friends</th>\n",
       "      <th>funny</th>\n",
       "      <th>name</th>\n",
       "      <th>review_count</th>\n",
       "      <th>useful</th>\n",
       "      <th>user_id</th>\n",
       "      <th>yelping_since</th>\n",
       "    </tr>\n",
       "  </thead>\n",
       "  <tbody>\n",
       "    <tr>\n",
       "      <th>0</th>\n",
       "      <td>3.45</td>\n",
       "      <td>64</td>\n",
       "      <td>0</td>\n",
       "      <td>16</td>\n",
       "      <td>0</td>\n",
       "      <td>8</td>\n",
       "      <td>42</td>\n",
       "      <td>10</td>\n",
       "      <td>32</td>\n",
       "      <td>1</td>\n",
       "      <td>...</td>\n",
       "      <td>974</td>\n",
       "      <td>2015,2016,2017,2018</td>\n",
       "      <td>71</td>\n",
       "      <td>tRC9YLo4LHquMVXZ9VO4Ag, -YpfTgz88rsPwsOvlfKn7w...</td>\n",
       "      <td>1007</td>\n",
       "      <td>Javier</td>\n",
       "      <td>470</td>\n",
       "      <td>1655</td>\n",
       "      <td>pU6GoRTcl1rIOi6zMynjog</td>\n",
       "      <td>2011</td>\n",
       "    </tr>\n",
       "    <tr>\n",
       "      <th>1</th>\n",
       "      <td>4.40</td>\n",
       "      <td>1</td>\n",
       "      <td>0</td>\n",
       "      <td>1</td>\n",
       "      <td>0</td>\n",
       "      <td>0</td>\n",
       "      <td>1</td>\n",
       "      <td>0</td>\n",
       "      <td>3</td>\n",
       "      <td>0</td>\n",
       "      <td>...</td>\n",
       "      <td>45</td>\n",
       "      <td>2017,2018</td>\n",
       "      <td>4</td>\n",
       "      <td>b6JabuZ8sNh91ZGqBJ-JHw, sKL3W6Yy1OJbSrNw7griiQ...</td>\n",
       "      <td>25</td>\n",
       "      <td>Karen</td>\n",
       "      <td>85</td>\n",
       "      <td>63</td>\n",
       "      <td>NcUMNz6tAahD6mDmuKwYIA</td>\n",
       "      <td>2008</td>\n",
       "    </tr>\n",
       "    <tr>\n",
       "      <th>2</th>\n",
       "      <td>4.57</td>\n",
       "      <td>1</td>\n",
       "      <td>0</td>\n",
       "      <td>0</td>\n",
       "      <td>0</td>\n",
       "      <td>0</td>\n",
       "      <td>1</td>\n",
       "      <td>2</td>\n",
       "      <td>0</td>\n",
       "      <td>0</td>\n",
       "      <td>...</td>\n",
       "      <td>9</td>\n",
       "      <td>NaN</td>\n",
       "      <td>1</td>\n",
       "      <td>k9dPWLh91nj46fEsMrPxYA, tFfvKiwajiXmUlY3SfF3KQ...</td>\n",
       "      <td>3</td>\n",
       "      <td>Noah</td>\n",
       "      <td>26</td>\n",
       "      <td>17</td>\n",
       "      <td>1a36KbE7XH31Uo4fkmdkqQ</td>\n",
       "      <td>2012</td>\n",
       "    </tr>\n",
       "    <tr>\n",
       "      <th>3</th>\n",
       "      <td>4.37</td>\n",
       "      <td>2</td>\n",
       "      <td>0</td>\n",
       "      <td>1</td>\n",
       "      <td>0</td>\n",
       "      <td>0</td>\n",
       "      <td>2</td>\n",
       "      <td>0</td>\n",
       "      <td>1</td>\n",
       "      <td>1</td>\n",
       "      <td>...</td>\n",
       "      <td>4</td>\n",
       "      <td>NaN</td>\n",
       "      <td>1</td>\n",
       "      <td>bMTNtbG6QxFNdyrPcx7V2g, 51qkOPAiCREk_2QFjn9Hyg...</td>\n",
       "      <td>3</td>\n",
       "      <td>Franz</td>\n",
       "      <td>27</td>\n",
       "      <td>17</td>\n",
       "      <td>7wFpWiJMxePaaGiL_c-_IQ</td>\n",
       "      <td>2017</td>\n",
       "    </tr>\n",
       "    <tr>\n",
       "      <th>4</th>\n",
       "      <td>4.32</td>\n",
       "      <td>3</td>\n",
       "      <td>0</td>\n",
       "      <td>5</td>\n",
       "      <td>0</td>\n",
       "      <td>0</td>\n",
       "      <td>1</td>\n",
       "      <td>1</td>\n",
       "      <td>5</td>\n",
       "      <td>0</td>\n",
       "      <td>...</td>\n",
       "      <td>87</td>\n",
       "      <td>NaN</td>\n",
       "      <td>3</td>\n",
       "      <td>pxzs-Dy2hXTis-PuNCV37Q, uZCy7wuptQo3arWvhpqZAA...</td>\n",
       "      <td>44</td>\n",
       "      <td>Victoria</td>\n",
       "      <td>95</td>\n",
       "      <td>114</td>\n",
       "      <td>i3dgAM1hWY9UdUCNMDnLXQ</td>\n",
       "      <td>2014</td>\n",
       "    </tr>\n",
       "  </tbody>\n",
       "</table>\n",
       "<p>5 rows × 21 columns</p>\n",
       "</div>"
      ],
      "text/plain": [
       "   average_stars  compliment_cool  compliment_cute  compliment_hot  \\\n",
       "0           3.45               64                0              16   \n",
       "1           4.40                1                0               1   \n",
       "2           4.57                1                0               0   \n",
       "3           4.37                2                0               1   \n",
       "4           4.32                3                0               5   \n",
       "\n",
       "   compliment_list  compliment_more  compliment_note  compliment_photos  \\\n",
       "0                0                8               42                 10   \n",
       "1                0                0                1                  0   \n",
       "2                0                0                1                  2   \n",
       "3                0                0                2                  0   \n",
       "4                0                0                1                  1   \n",
       "\n",
       "   compliment_plain  compliment_profile      ...       cool  \\\n",
       "0                32                   1      ...        974   \n",
       "1                 3                   0      ...         45   \n",
       "2                 0                   0      ...          9   \n",
       "3                 1                   1      ...          4   \n",
       "4                 5                   0      ...         87   \n",
       "\n",
       "                 elite fans  \\\n",
       "0  2015,2016,2017,2018   71   \n",
       "1            2017,2018    4   \n",
       "2                  NaN    1   \n",
       "3                  NaN    1   \n",
       "4                  NaN    3   \n",
       "\n",
       "                                             friends funny      name  \\\n",
       "0  tRC9YLo4LHquMVXZ9VO4Ag, -YpfTgz88rsPwsOvlfKn7w...  1007    Javier   \n",
       "1  b6JabuZ8sNh91ZGqBJ-JHw, sKL3W6Yy1OJbSrNw7griiQ...    25     Karen   \n",
       "2  k9dPWLh91nj46fEsMrPxYA, tFfvKiwajiXmUlY3SfF3KQ...     3      Noah   \n",
       "3  bMTNtbG6QxFNdyrPcx7V2g, 51qkOPAiCREk_2QFjn9Hyg...     3     Franz   \n",
       "4  pxzs-Dy2hXTis-PuNCV37Q, uZCy7wuptQo3arWvhpqZAA...    44  Victoria   \n",
       "\n",
       "  review_count  useful                 user_id yelping_since  \n",
       "0          470    1655  pU6GoRTcl1rIOi6zMynjog          2011  \n",
       "1           85      63  NcUMNz6tAahD6mDmuKwYIA          2008  \n",
       "2           26      17  1a36KbE7XH31Uo4fkmdkqQ          2012  \n",
       "3           27      17  7wFpWiJMxePaaGiL_c-_IQ          2017  \n",
       "4           95     114  i3dgAM1hWY9UdUCNMDnLXQ          2014  \n",
       "\n",
       "[5 rows x 21 columns]"
      ]
     },
     "execution_count": 2,
     "metadata": {},
     "output_type": "execute_result"
    }
   ],
   "source": [
    "user = pd.read_csv('user.csv')\n",
    "user.head()"
   ]
  },
  {
   "cell_type": "code",
   "execution_count": 3,
   "metadata": {},
   "outputs": [
    {
     "data": {
      "text/plain": [
       "Index(['average_stars', 'compliment_cool', 'compliment_cute', 'compliment_hot',\n",
       "       'compliment_list', 'compliment_more', 'compliment_note',\n",
       "       'compliment_photos', 'compliment_plain', 'compliment_profile',\n",
       "       'compliment_writer', 'cool', 'elite', 'fans', 'friends', 'funny',\n",
       "       'name', 'review_count', 'useful', 'user_id', 'yelping_since'],\n",
       "      dtype='object')"
      ]
     },
     "execution_count": 3,
     "metadata": {},
     "output_type": "execute_result"
    }
   ],
   "source": [
    "user.columns # column names"
   ]
  },
  {
   "cell_type": "code",
   "execution_count": 27,
   "metadata": {},
   "outputs": [
    {
     "name": "stdout",
     "output_type": "stream",
     "text": [
      "Number of users 33564\n",
      "Missing value of average_stars 0\n",
      "Missing value of compliment_cool 0\n",
      "Missing value of cool 0\n",
      "Missing value of elite 26608\n",
      "Missing value of fans 0\n",
      "Missing value of friends 0\n",
      "Missing value of funny 0\n",
      "Missing value of review_count 0\n",
      "Missing value of useful 0\n",
      "Missing value of yelping_since 0\n"
     ]
    }
   ],
   "source": [
    "print('Number of users:',len(user))\n",
    "print('Missing value of average_stars:',sum(user['average_stars'].isna()))\n",
    "print('Missing value of compliment_cool:',sum(user['compliment_cool'].isna()))\n",
    "print('Missing value of cool:',sum(user['cool'].isna()))\n",
    "print('Missing value of elite:',sum(user['elite'].isna()))\n",
    "print('Missing value of fans:',sum(user['fans'].isna()))\n",
    "print('Missing value of friends:',sum(user['friends'].isna()))\n",
    "print('Missing value of funny:',sum(user['funny'].isna()))\n",
    "print('Missing value of review_count:',sum(user['review_count'].isna()))\n",
    "print('Missing value of useful:',sum(user['useful'].isna()))\n",
    "print('Missing value of yelping_since:',sum(user['yelping_since'].isna()))"
   ]
  },
  {
   "cell_type": "markdown",
   "metadata": {},
   "source": [
    "As we can see, except for \"elite\" all of other indexes don't have missing value. We don't need to impute for user's dataset. In addition, \"elite\" will be NULL if the user hasn't be an elite at all. In hence, we can encode those NULL as 0 and encode the rest of the records as 1. It indicates whether the user has been elite before."
   ]
  },
  {
   "cell_type": "code",
   "execution_count": 32,
   "metadata": {},
   "outputs": [
    {
     "name": "stdout",
     "output_type": "stream",
     "text": [
      "Proportion of elite user: 0.21\n"
     ]
    }
   ],
   "source": [
    "# Encode elite\n",
    "user['elite'] = user['elite'].fillna(0)\n",
    "user['elite'] = np.where(user['elite']==0,0,1)\n",
    "print('Proportion of elite user:',round(sum(user['elite'])/len(user),2))"
   ]
  },
  {
   "cell_type": "code",
   "execution_count": 70,
   "metadata": {},
   "outputs": [
    {
     "name": "stdout",
     "output_type": "stream",
     "text": [
      "Number of compliment_list greater than 0: 1704\n",
      "Proportion of nonzero compliement_list: 0.05\n"
     ]
    }
   ],
   "source": [
    "# Drop name column\n",
    "user = user.drop(['name'],axis=1)\n",
    "print('Number of compliment_list greater than 0:',sum(user['compliment_list']>0))\n",
    "print('Proportion of nonzero compliement_list:',round(sum(user['compliment_list']>0)/len(user),2))\n",
    "# Sine the proportion is too small, we would like to get rid of this column.\n",
    "user = user.drop(['compliment_list'],axis=1)"
   ]
  },
  {
   "cell_type": "markdown",
   "metadata": {},
   "source": [
    "## 2. Feature Engineering"
   ]
  },
  {
   "cell_type": "markdown",
   "metadata": {},
   "source": [
    "(1) Since \"funny\" and \"cool\" have similar meaning, we can add these two indexes up and get a new \"cool_fun\" index. Similarly, we think \"compliment_cool\", \"compliment_cute\", \"compliment_hot\" are all positive appraise, so we will aslo combine these indexes into \"compliment_pos\"."
   ]
  },
  {
   "cell_type": "code",
   "execution_count": 57,
   "metadata": {},
   "outputs": [],
   "source": [
    "user['cool_fun'] = user['cool'] + user['funny']\n",
    "user = user.drop(['cool','funny'],axis=1)\n",
    "user['compliment_pos'] = user['compliment_cool'] + user['compliment_cute'] + user['compliment_hot']\n",
    "user['compliment_pos'] = user['compliment_cool'] + user['compliment_cute'] + user['compliment_hot']\n",
    "user = user.drop(['compliment_cool','compliment_cute','compliment_hot'],axis=1)"
   ]
  },
  {
   "cell_type": "markdown",
   "metadata": {},
   "source": [
    "(2) We are only interested in the number of friends a user have rather than their specif ids. So, for 'friends' information we will only keep the amount of it."
   ]
  },
  {
   "cell_type": "code",
   "execution_count": 42,
   "metadata": {},
   "outputs": [],
   "source": [
    "user['friends'] = user['friends'].apply(lambda x: len(x.split(',')))"
   ]
  },
  {
   "cell_type": "markdown",
   "metadata": {},
   "source": [
    "(3) "
   ]
  },
  {
   "cell_type": "code",
   "execution_count": 71,
   "metadata": {},
   "outputs": [
    {
     "data": {
      "text/html": [
       "<div>\n",
       "<style scoped>\n",
       "    .dataframe tbody tr th:only-of-type {\n",
       "        vertical-align: middle;\n",
       "    }\n",
       "\n",
       "    .dataframe tbody tr th {\n",
       "        vertical-align: top;\n",
       "    }\n",
       "\n",
       "    .dataframe thead th {\n",
       "        text-align: right;\n",
       "    }\n",
       "</style>\n",
       "<table border=\"1\" class=\"dataframe\">\n",
       "  <thead>\n",
       "    <tr style=\"text-align: right;\">\n",
       "      <th></th>\n",
       "      <th>average_stars</th>\n",
       "      <th>compliment_more</th>\n",
       "      <th>compliment_note</th>\n",
       "      <th>compliment_photos</th>\n",
       "      <th>compliment_plain</th>\n",
       "      <th>compliment_profile</th>\n",
       "      <th>compliment_writer</th>\n",
       "      <th>elite</th>\n",
       "      <th>fans</th>\n",
       "      <th>friends</th>\n",
       "      <th>review_count</th>\n",
       "      <th>useful</th>\n",
       "      <th>user_id</th>\n",
       "      <th>yelping_since</th>\n",
       "      <th>cool_fun</th>\n",
       "      <th>compliment_pos</th>\n",
       "    </tr>\n",
       "  </thead>\n",
       "  <tbody>\n",
       "    <tr>\n",
       "      <th>0</th>\n",
       "      <td>3.45</td>\n",
       "      <td>8</td>\n",
       "      <td>42</td>\n",
       "      <td>10</td>\n",
       "      <td>32</td>\n",
       "      <td>1</td>\n",
       "      <td>35</td>\n",
       "      <td>1</td>\n",
       "      <td>71</td>\n",
       "      <td>694</td>\n",
       "      <td>470</td>\n",
       "      <td>1655</td>\n",
       "      <td>pU6GoRTcl1rIOi6zMynjog</td>\n",
       "      <td>2011</td>\n",
       "      <td>1981</td>\n",
       "      <td>80</td>\n",
       "    </tr>\n",
       "    <tr>\n",
       "      <th>1</th>\n",
       "      <td>4.40</td>\n",
       "      <td>0</td>\n",
       "      <td>1</td>\n",
       "      <td>0</td>\n",
       "      <td>3</td>\n",
       "      <td>0</td>\n",
       "      <td>3</td>\n",
       "      <td>1</td>\n",
       "      <td>4</td>\n",
       "      <td>231</td>\n",
       "      <td>85</td>\n",
       "      <td>63</td>\n",
       "      <td>NcUMNz6tAahD6mDmuKwYIA</td>\n",
       "      <td>2008</td>\n",
       "      <td>70</td>\n",
       "      <td>2</td>\n",
       "    </tr>\n",
       "    <tr>\n",
       "      <th>2</th>\n",
       "      <td>4.57</td>\n",
       "      <td>0</td>\n",
       "      <td>1</td>\n",
       "      <td>2</td>\n",
       "      <td>0</td>\n",
       "      <td>0</td>\n",
       "      <td>1</td>\n",
       "      <td>0</td>\n",
       "      <td>1</td>\n",
       "      <td>170</td>\n",
       "      <td>26</td>\n",
       "      <td>17</td>\n",
       "      <td>1a36KbE7XH31Uo4fkmdkqQ</td>\n",
       "      <td>2012</td>\n",
       "      <td>12</td>\n",
       "      <td>1</td>\n",
       "    </tr>\n",
       "    <tr>\n",
       "      <th>3</th>\n",
       "      <td>4.37</td>\n",
       "      <td>0</td>\n",
       "      <td>2</td>\n",
       "      <td>0</td>\n",
       "      <td>1</td>\n",
       "      <td>1</td>\n",
       "      <td>0</td>\n",
       "      <td>0</td>\n",
       "      <td>1</td>\n",
       "      <td>991</td>\n",
       "      <td>27</td>\n",
       "      <td>17</td>\n",
       "      <td>7wFpWiJMxePaaGiL_c-_IQ</td>\n",
       "      <td>2017</td>\n",
       "      <td>7</td>\n",
       "      <td>3</td>\n",
       "    </tr>\n",
       "    <tr>\n",
       "      <th>4</th>\n",
       "      <td>4.32</td>\n",
       "      <td>0</td>\n",
       "      <td>1</td>\n",
       "      <td>1</td>\n",
       "      <td>5</td>\n",
       "      <td>0</td>\n",
       "      <td>1</td>\n",
       "      <td>0</td>\n",
       "      <td>3</td>\n",
       "      <td>80</td>\n",
       "      <td>95</td>\n",
       "      <td>114</td>\n",
       "      <td>i3dgAM1hWY9UdUCNMDnLXQ</td>\n",
       "      <td>2014</td>\n",
       "      <td>131</td>\n",
       "      <td>8</td>\n",
       "    </tr>\n",
       "  </tbody>\n",
       "</table>\n",
       "</div>"
      ],
      "text/plain": [
       "   average_stars  compliment_more  compliment_note  compliment_photos  \\\n",
       "0           3.45                8               42                 10   \n",
       "1           4.40                0                1                  0   \n",
       "2           4.57                0                1                  2   \n",
       "3           4.37                0                2                  0   \n",
       "4           4.32                0                1                  1   \n",
       "\n",
       "   compliment_plain  compliment_profile  compliment_writer  elite  fans  \\\n",
       "0                32                   1                 35      1    71   \n",
       "1                 3                   0                  3      1     4   \n",
       "2                 0                   0                  1      0     1   \n",
       "3                 1                   1                  0      0     1   \n",
       "4                 5                   0                  1      0     3   \n",
       "\n",
       "   friends  review_count  useful                 user_id  yelping_since  \\\n",
       "0      694           470    1655  pU6GoRTcl1rIOi6zMynjog           2011   \n",
       "1      231            85      63  NcUMNz6tAahD6mDmuKwYIA           2008   \n",
       "2      170            26      17  1a36KbE7XH31Uo4fkmdkqQ           2012   \n",
       "3      991            27      17  7wFpWiJMxePaaGiL_c-_IQ           2017   \n",
       "4       80            95     114  i3dgAM1hWY9UdUCNMDnLXQ           2014   \n",
       "\n",
       "   cool_fun  compliment_pos  \n",
       "0      1981              80  \n",
       "1        70               2  \n",
       "2        12               1  \n",
       "3         7               3  \n",
       "4       131               8  "
      ]
     },
     "execution_count": 71,
     "metadata": {},
     "output_type": "execute_result"
    }
   ],
   "source": [
    "user.head()"
   ]
  },
  {
   "cell_type": "code",
   "execution_count": 74,
   "metadata": {},
   "outputs": [
    {
     "data": {
      "text/plain": [
       "Index(['average_stars', 'compliment_more', 'compliment_note',\n",
       "       'compliment_photos', 'compliment_plain', 'compliment_profile',\n",
       "       'compliment_writer', 'elite', 'fans', 'friends', 'review_count',\n",
       "       'useful', 'user_id', 'yelping_since', 'cool_fun', 'compliment_pos'],\n",
       "      dtype='object')"
      ]
     },
     "execution_count": 74,
     "metadata": {},
     "output_type": "execute_result"
    }
   ],
   "source": [
    "user.columns"
   ]
  },
  {
   "cell_type": "code",
   "execution_count": 72,
   "metadata": {},
   "outputs": [
    {
     "data": {
      "text/plain": [
       "count    33564.000000\n",
       "mean         1.468925\n",
       "std         25.082065\n",
       "min          0.000000\n",
       "25%          0.000000\n",
       "50%          0.000000\n",
       "75%          0.000000\n",
       "max       2331.000000\n",
       "Name: compliment_profile, dtype: float64"
      ]
     },
     "execution_count": 72,
     "metadata": {},
     "output_type": "execute_result"
    }
   ],
   "source": [
    "user['compliment_profile'].describe()"
   ]
  },
  {
   "cell_type": "markdown",
   "metadata": {},
   "source": [
    "## 3. Logistic Regression"
   ]
  },
  {
   "cell_type": "markdown",
   "metadata": {},
   "source": [
    "To begin with, we try with the full model with all features we have to predict \"elite\" status. Since \"elite\" status is a binary variable, we would use logistic regression to predict the \"elite\" status as well as its probability."
   ]
  },
  {
   "cell_type": "code",
   "execution_count": 184,
   "metadata": {},
   "outputs": [],
   "source": [
    "from sklearn import linear_model\n",
    "import scipy.stats as stat\n",
    "\n",
    "class LogisticReg:\n",
    "    \"\"\"\n",
    "    Wrapper Class for Logistic Regression which has the usual sklearn instance \n",
    "    in an attribute self.model, and pvalues, z scores and estimated \n",
    "    errors for each coefficient in \n",
    "    \n",
    "    self.z_scores\n",
    "    self.p_values\n",
    "    self.sigma_estimates\n",
    "    \n",
    "    as well as the negative hessian of the log Likelihood (Fisher information)\n",
    "    \n",
    "    self.F_ij\n",
    "    \"\"\"\n",
    "    \n",
    "    def __init__(self,*args,**kwargs):#,**kwargs):\n",
    "        self.model = linear_model.LogisticRegression(*args,**kwargs)#,**args)\n",
    "\n",
    "    def fit(self,X,y):\n",
    "        self.model.fit(X,y)\n",
    "        #### Get p-values for the fitted model ####\n",
    "        denom = (2.0*(1.0+np.cosh(self.model.decision_function(X))))\n",
    "        denom = np.tile(denom,(X.shape[1],1)).T\n",
    "        F_ij = np.dot((X/denom).T,X) ## Fisher Information Matrix\n",
    "        Cramer_Rao = np.linalg.inv(F_ij) ## Inverse Information Matrix\n",
    "        sigma_estimates = np.sqrt(np.diagonal(Cramer_Rao))\n",
    "        z_scores = self.model.coef_[0]/sigma_estimates # z-score for eaach model coefficient\n",
    "        p_values = [stat.norm.sf(abs(x))*2 for x in z_scores] ### two tailed test for p-values\n",
    "        \n",
    "        self.z_scores = z_scores\n",
    "        self.p_values = p_values\n",
    "        self.sigma_estimates = sigma_estimates\n",
    "        self.F_ij = F_ij\n",
    "        "
   ]
  },
  {
   "cell_type": "code",
   "execution_count": 185,
   "metadata": {},
   "outputs": [
    {
     "name": "stderr",
     "output_type": "stream",
     "text": [
      "/Users/kechen/anaconda3/lib/python3.7/site-packages/sklearn/linear_model/logistic.py:433: FutureWarning: Default solver will be changed to 'lbfgs' in 0.22. Specify a solver to silence this warning.\n",
      "  FutureWarning)\n",
      "/Users/kechen/anaconda3/lib/python3.7/site-packages/sklearn/svm/base.py:922: ConvergenceWarning: Liblinear failed to converge, increase the number of iterations.\n",
      "  \"the number of iterations.\", ConvergenceWarning)\n"
     ]
    }
   ],
   "source": [
    "y = user['elite']\n",
    "x = user[['average_stars', 'compliment_more', 'compliment_note',\n",
    "       'compliment_photos', 'compliment_plain', 'compliment_profile',\n",
    "       'compliment_writer', 'fans', 'friends', 'review_count',\n",
    "       'useful', 'yelping_since', 'cool_fun', 'compliment_pos']]\n",
    "model_full = LogisticReg(random_state=123)\n",
    "model_full.fit(x,y)"
   ]
  },
  {
   "cell_type": "code",
   "execution_count": 186,
   "metadata": {},
   "outputs": [
    {
     "data": {
      "text/html": [
       "<div>\n",
       "<style scoped>\n",
       "    .dataframe tbody tr th:only-of-type {\n",
       "        vertical-align: middle;\n",
       "    }\n",
       "\n",
       "    .dataframe tbody tr th {\n",
       "        vertical-align: top;\n",
       "    }\n",
       "\n",
       "    .dataframe thead th {\n",
       "        text-align: right;\n",
       "    }\n",
       "</style>\n",
       "<table border=\"1\" class=\"dataframe\">\n",
       "  <thead>\n",
       "    <tr style=\"text-align: right;\">\n",
       "      <th></th>\n",
       "      <th>z score</th>\n",
       "      <th>sigma estimate</th>\n",
       "      <th>p value</th>\n",
       "    </tr>\n",
       "  </thead>\n",
       "  <tbody>\n",
       "    <tr>\n",
       "      <th>average_stars</th>\n",
       "      <td>0.197895</td>\n",
       "      <td>0.028402</td>\n",
       "      <td>8.431276e-01</td>\n",
       "    </tr>\n",
       "    <tr>\n",
       "      <th>compliment_more</th>\n",
       "      <td>0.783548</td>\n",
       "      <td>0.012747</td>\n",
       "      <td>4.333052e-01</td>\n",
       "    </tr>\n",
       "    <tr>\n",
       "      <th>compliment_note</th>\n",
       "      <td>-5.068249</td>\n",
       "      <td>0.002865</td>\n",
       "      <td>4.014929e-07</td>\n",
       "    </tr>\n",
       "    <tr>\n",
       "      <th>compliment_photos</th>\n",
       "      <td>-1.497339</td>\n",
       "      <td>0.001538</td>\n",
       "      <td>1.343052e-01</td>\n",
       "    </tr>\n",
       "    <tr>\n",
       "      <th>compliment_plain</th>\n",
       "      <td>-1.300731</td>\n",
       "      <td>0.000532</td>\n",
       "      <td>1.933505e-01</td>\n",
       "    </tr>\n",
       "    <tr>\n",
       "      <th>compliment_profile</th>\n",
       "      <td>-0.401226</td>\n",
       "      <td>0.011367</td>\n",
       "      <td>6.882534e-01</td>\n",
       "    </tr>\n",
       "    <tr>\n",
       "      <th>compliment_writer</th>\n",
       "      <td>6.395535</td>\n",
       "      <td>0.005098</td>\n",
       "      <td>1.599857e-10</td>\n",
       "    </tr>\n",
       "    <tr>\n",
       "      <th>fans</th>\n",
       "      <td>13.134345</td>\n",
       "      <td>0.004505</td>\n",
       "      <td>2.092933e-39</td>\n",
       "    </tr>\n",
       "    <tr>\n",
       "      <th>friends</th>\n",
       "      <td>11.688878</td>\n",
       "      <td>0.000124</td>\n",
       "      <td>1.452930e-31</td>\n",
       "    </tr>\n",
       "    <tr>\n",
       "      <th>review_count</th>\n",
       "      <td>25.619770</td>\n",
       "      <td>0.000365</td>\n",
       "      <td>9.187586e-145</td>\n",
       "    </tr>\n",
       "    <tr>\n",
       "      <th>useful</th>\n",
       "      <td>12.755541</td>\n",
       "      <td>0.000399</td>\n",
       "      <td>2.903534e-37</td>\n",
       "    </tr>\n",
       "    <tr>\n",
       "      <th>yelping_since</th>\n",
       "      <td>-26.089249</td>\n",
       "      <td>0.000056</td>\n",
       "      <td>4.828473e-150</td>\n",
       "    </tr>\n",
       "    <tr>\n",
       "      <th>cool_fun</th>\n",
       "      <td>-15.134849</td>\n",
       "      <td>0.000229</td>\n",
       "      <td>9.539889e-52</td>\n",
       "    </tr>\n",
       "    <tr>\n",
       "      <th>compliment_pos</th>\n",
       "      <td>-0.213026</td>\n",
       "      <td>0.000814</td>\n",
       "      <td>8.313065e-01</td>\n",
       "    </tr>\n",
       "  </tbody>\n",
       "</table>\n",
       "</div>"
      ],
      "text/plain": [
       "                      z score  sigma estimate        p value\n",
       "average_stars        0.197895        0.028402   8.431276e-01\n",
       "compliment_more      0.783548        0.012747   4.333052e-01\n",
       "compliment_note     -5.068249        0.002865   4.014929e-07\n",
       "compliment_photos   -1.497339        0.001538   1.343052e-01\n",
       "compliment_plain    -1.300731        0.000532   1.933505e-01\n",
       "compliment_profile  -0.401226        0.011367   6.882534e-01\n",
       "compliment_writer    6.395535        0.005098   1.599857e-10\n",
       "fans                13.134345        0.004505   2.092933e-39\n",
       "friends             11.688878        0.000124   1.452930e-31\n",
       "review_count        25.619770        0.000365  9.187586e-145\n",
       "useful              12.755541        0.000399   2.903534e-37\n",
       "yelping_since      -26.089249        0.000056  4.828473e-150\n",
       "cool_fun           -15.134849        0.000229   9.539889e-52\n",
       "compliment_pos      -0.213026        0.000814   8.313065e-01"
      ]
     },
     "execution_count": 186,
     "metadata": {},
     "output_type": "execute_result"
    }
   ],
   "source": [
    "index = ['average_stars', 'compliment_more', 'compliment_note',\n",
    "       'compliment_photos', 'compliment_plain', 'compliment_profile',\n",
    "       'compliment_writer', 'fans', 'friends', 'review_count',\n",
    "       'useful', 'yelping_since', 'cool_fun', 'compliment_pos']\n",
    "table_list = list(zip(model_full.z_scores,model_full.sigma_estimates, model_full.p_values))\n",
    "table_full = pd.DataFrame(table_list,index=index,columns=['z score','sigma estimate','p value'])\n",
    "table_full"
   ]
  },
  {
   "cell_type": "markdown",
   "metadata": {},
   "source": [
    "As we can see from the table above, average score given by user is not necessarily correlated with elite status. Also, compliment_more, compliment_photos, compliment_plain, compliment_profile, compliment_pos are not statistically significant. There might have high correlation among them and number of fans/friends. For latter analysis, we mainly focus on thos significant indexes for modeling."
   ]
  },
  {
   "cell_type": "code",
   "execution_count": 106,
   "metadata": {},
   "outputs": [
    {
     "name": "stdout",
     "output_type": "stream",
     "text": [
      "Optimization terminated successfully.\n",
      "         Current function value: 0.280855\n",
      "         Iterations 11\n",
      "                          Results: Logit\n",
      "===================================================================\n",
      "Model:                Logit            Pseudo R-squared: 0.450     \n",
      "Dependent Variable:   elite            AIC:              18869.2320\n",
      "Date:                 2019-11-10 22:33 BIC:              18936.6017\n",
      "No. Observations:     33564            Log-Likelihood:   -9426.6   \n",
      "Df Model:             7                LL-Null:          -17127.   \n",
      "Df Residuals:         33556            LLR p-value:      0.0000    \n",
      "Converged:            1.0000           Scale:            1.0000    \n",
      "No. Iterations:       11.0000                                      \n",
      "-------------------------------------------------------------------\n",
      "                   Coef.  Std.Err.     z     P>|z|   [0.025  0.975]\n",
      "-------------------------------------------------------------------\n",
      "compliment_note   -0.0539   0.0037  -14.7103 0.0000 -0.0611 -0.0467\n",
      "compliment_writer  0.0975   0.0072   13.5867 0.0000  0.0834  0.1116\n",
      "fans               0.1651   0.0060   27.6366 0.0000  0.1534  0.1768\n",
      "friends            0.0005   0.0001    3.4044 0.0007  0.0002  0.0007\n",
      "review_count       0.0075   0.0004   20.0647 0.0000  0.0067  0.0082\n",
      "useful             0.0029   0.0004    7.2072 0.0000  0.0021  0.0037\n",
      "yelping_since     -0.0015   0.0000 -103.9449 0.0000 -0.0015 -0.0014\n",
      "cool_fun          -0.0029   0.0002  -12.7388 0.0000 -0.0034 -0.0025\n",
      "===================================================================\n",
      "\n"
     ]
    }
   ],
   "source": [
    "import statsmodels.api as sm\n",
    "y = user['elite']\n",
    "x = user[['compliment_note','compliment_writer', 'fans', 'friends', 'review_count',\n",
    "       'useful', 'yelping_since', 'cool_fun']]\n",
    "logit_model=sm.Logit(y,x)\n",
    "result=logit_model.fit()\n",
    "print(result.summary2())"
   ]
  },
  {
   "cell_type": "code",
   "execution_count": 112,
   "metadata": {},
   "outputs": [
    {
     "data": {
      "text/plain": [
       "array([[2.76098446e-06, 9.99997239e-01],\n",
       "       [7.85770889e-01, 2.14229111e-01],\n",
       "       [9.18898377e-01, 8.11016235e-02],\n",
       "       ...,\n",
       "       [9.47890257e-01, 5.21097429e-02],\n",
       "       [9.48392706e-01, 5.16072936e-02],\n",
       "       [9.47802704e-01, 5.21972965e-02]])"
      ]
     },
     "execution_count": 112,
     "metadata": {},
     "output_type": "execute_result"
    }
   ],
   "source": [
    "from sklearn.linear_model import LogisticRegression\n",
    "from sklearn import metrics\n",
    "logreg = LogisticRegression()\n",
    "logreg.fit(x, y)\n",
    "y_proba = logreg.predict_proba(x)\n",
    "y_proba"
   ]
  },
  {
   "cell_type": "code",
   "execution_count": 187,
   "metadata": {},
   "outputs": [
    {
     "name": "stdout",
     "output_type": "stream",
     "text": [
      "ROC AUC score: 0.960613479038589\n"
     ]
    }
   ],
   "source": [
    "from sklearn.metrics import roc_auc_score\n",
    "print('ROC AUC score:',roc_auc_score(y, y_proba[:,1])) # ROC AUC"
   ]
  },
  {
   "cell_type": "markdown",
   "metadata": {},
   "source": [
    "The ROC AUC score is pretty high for our LR model which means this model have excellent ability to distinguish positve and negative samples.\n",
    "\n",
    "Our goal is to predict the elite status, in other word, we want to find the probability of a user to be a trustful customer. Although some users are not elite users by far, they may also have many high-quality reviews and active interaction with others. We would also view them as trustful users. In hence, for prediction, we intend to use a lower threshold which may generate more \"elite\" users than that in reality. As for evaluation, we concern more about recall rate which indicates how many real elite users could be detected by our model."
   ]
  },
  {
   "cell_type": "code",
   "execution_count": 195,
   "metadata": {},
   "outputs": [],
   "source": [
    "evaluation = []\n",
    "for i in np.arange(0,1,0.1):\n",
    "    y_pred = np.where(y_proba[:,1]>i,1,0)\n",
    "    evaluation.append([sum(y_pred)/len(y_pred), sum(y_pred==user['elite'])/len(y_pred),\n",
    "                      sum((y_pred==user['elite'])&(user['elite']==1))/sum(user['elite']==1)])\n",
    "    "
   ]
  },
  {
   "cell_type": "code",
   "execution_count": 198,
   "metadata": {},
   "outputs": [
    {
     "data": {
      "text/html": [
       "<div>\n",
       "<style scoped>\n",
       "    .dataframe tbody tr th:only-of-type {\n",
       "        vertical-align: middle;\n",
       "    }\n",
       "\n",
       "    .dataframe tbody tr th {\n",
       "        vertical-align: top;\n",
       "    }\n",
       "\n",
       "    .dataframe thead th {\n",
       "        text-align: right;\n",
       "    }\n",
       "</style>\n",
       "<table border=\"1\" class=\"dataframe\">\n",
       "  <thead>\n",
       "    <tr style=\"text-align: right;\">\n",
       "      <th></th>\n",
       "      <th>Proportion</th>\n",
       "      <th>Accuracy</th>\n",
       "      <th>Recall</th>\n",
       "    </tr>\n",
       "  </thead>\n",
       "  <tbody>\n",
       "    <tr>\n",
       "      <th>0.0</th>\n",
       "      <td>1.000000</td>\n",
       "      <td>0.207246</td>\n",
       "      <td>1.000000</td>\n",
       "    </tr>\n",
       "    <tr>\n",
       "      <th>0.1</th>\n",
       "      <td>0.328060</td>\n",
       "      <td>0.858688</td>\n",
       "      <td>0.950546</td>\n",
       "    </tr>\n",
       "    <tr>\n",
       "      <th>0.2</th>\n",
       "      <td>0.217703</td>\n",
       "      <td>0.911661</td>\n",
       "      <td>0.812105</td>\n",
       "    </tr>\n",
       "    <tr>\n",
       "      <th>0.3</th>\n",
       "      <td>0.181742</td>\n",
       "      <td>0.911036</td>\n",
       "      <td>0.723836</td>\n",
       "    </tr>\n",
       "    <tr>\n",
       "      <th>0.4</th>\n",
       "      <td>0.158116</td>\n",
       "      <td>0.906060</td>\n",
       "      <td>0.654830</td>\n",
       "    </tr>\n",
       "    <tr>\n",
       "      <th>0.5</th>\n",
       "      <td>0.143010</td>\n",
       "      <td>0.900489</td>\n",
       "      <td>0.604945</td>\n",
       "    </tr>\n",
       "    <tr>\n",
       "      <th>0.6</th>\n",
       "      <td>0.128948</td>\n",
       "      <td>0.893100</td>\n",
       "      <td>0.553191</td>\n",
       "    </tr>\n",
       "    <tr>\n",
       "      <th>0.7</th>\n",
       "      <td>0.117030</td>\n",
       "      <td>0.886545</td>\n",
       "      <td>0.508626</td>\n",
       "    </tr>\n",
       "    <tr>\n",
       "      <th>0.8</th>\n",
       "      <td>0.105500</td>\n",
       "      <td>0.879544</td>\n",
       "      <td>0.463916</td>\n",
       "    </tr>\n",
       "    <tr>\n",
       "      <th>0.9</th>\n",
       "      <td>0.091854</td>\n",
       "      <td>0.870605</td>\n",
       "      <td>0.409431</td>\n",
       "    </tr>\n",
       "  </tbody>\n",
       "</table>\n",
       "</div>"
      ],
      "text/plain": [
       "     Proportion  Accuracy    Recall\n",
       "0.0    1.000000  0.207246  1.000000\n",
       "0.1    0.328060  0.858688  0.950546\n",
       "0.2    0.217703  0.911661  0.812105\n",
       "0.3    0.181742  0.911036  0.723836\n",
       "0.4    0.158116  0.906060  0.654830\n",
       "0.5    0.143010  0.900489  0.604945\n",
       "0.6    0.128948  0.893100  0.553191\n",
       "0.7    0.117030  0.886545  0.508626\n",
       "0.8    0.105500  0.879544  0.463916\n",
       "0.9    0.091854  0.870605  0.409431"
      ]
     },
     "execution_count": 198,
     "metadata": {},
     "output_type": "execute_result"
    }
   ],
   "source": [
    "pd.DataFrame(evaluation,index=np.arange(0,1,0.1),columns=['Proportion','Accuracy','Recall'])"
   ]
  },
  {
   "cell_type": "markdown",
   "metadata": {},
   "source": [
    "The original proportion of \"elite\" users is 0.21. From the table above, we find the result with 0.2 threshold is most similar to the real one. While we hope to obtain more potential \"elite\" users, we would choose a lower threshold with higher recall and proper accuracy. Hence, we sould choose 0.1 threshold."
   ]
  },
  {
   "cell_type": "code",
   "execution_count": 208,
   "metadata": {},
   "outputs": [
    {
     "name": "stdout",
     "output_type": "stream",
     "text": [
      "Proportion of elite users in prediction: 0.328\n",
      "Accuracy: 0.859\n",
      "Recall rate: 0.951\n"
     ]
    }
   ],
   "source": [
    "y_pred = np.where(y_proba[:,1]>0.1,1,0)\n",
    "print('Proportion of elite users in prediction:',round(sum(y_pred)/len(y_pred),3))\n",
    "print('Accuracy:',round(sum(y_pred==user['elite'])/len(y_pred),3))\n",
    "print('Recall rate:',round(sum((y_pred==user['elite'])&(user['elite']==1))/sum(user['elite']==1),3))"
   ]
  },
  {
   "cell_type": "markdown",
   "metadata": {},
   "source": [
    "Reviews from potential elite users might be more valuable and faithful, so we would give it higher weight for latter analysis. In addition, the weight could not be too absolute since reviews from other users are not meaningless. Overall, we decide to give elite users' reviews with weight 2 while common users's review weight 1."
   ]
  },
  {
   "cell_type": "code",
   "execution_count": 209,
   "metadata": {},
   "outputs": [],
   "source": [
    "userweight = np.where(y_pred==1,2,1)"
   ]
  },
  {
   "cell_type": "code",
   "execution_count": 215,
   "metadata": {},
   "outputs": [],
   "source": [
    "userweight = pd.DataFrame(userweight,columns=['weight'])\n",
    "userweight['user_id'] = user['user_id']"
   ]
  },
  {
   "cell_type": "code",
   "execution_count": 220,
   "metadata": {},
   "outputs": [
    {
     "data": {
      "text/html": [
       "<div>\n",
       "<style scoped>\n",
       "    .dataframe tbody tr th:only-of-type {\n",
       "        vertical-align: middle;\n",
       "    }\n",
       "\n",
       "    .dataframe tbody tr th {\n",
       "        vertical-align: top;\n",
       "    }\n",
       "\n",
       "    .dataframe thead th {\n",
       "        text-align: right;\n",
       "    }\n",
       "</style>\n",
       "<table border=\"1\" class=\"dataframe\">\n",
       "  <thead>\n",
       "    <tr style=\"text-align: right;\">\n",
       "      <th></th>\n",
       "      <th>weight</th>\n",
       "      <th>user_id</th>\n",
       "    </tr>\n",
       "  </thead>\n",
       "  <tbody>\n",
       "    <tr>\n",
       "      <th>0</th>\n",
       "      <td>2</td>\n",
       "      <td>pU6GoRTcl1rIOi6zMynjog</td>\n",
       "    </tr>\n",
       "    <tr>\n",
       "      <th>1</th>\n",
       "      <td>2</td>\n",
       "      <td>NcUMNz6tAahD6mDmuKwYIA</td>\n",
       "    </tr>\n",
       "    <tr>\n",
       "      <th>2</th>\n",
       "      <td>1</td>\n",
       "      <td>1a36KbE7XH31Uo4fkmdkqQ</td>\n",
       "    </tr>\n",
       "    <tr>\n",
       "      <th>3</th>\n",
       "      <td>2</td>\n",
       "      <td>7wFpWiJMxePaaGiL_c-_IQ</td>\n",
       "    </tr>\n",
       "    <tr>\n",
       "      <th>4</th>\n",
       "      <td>2</td>\n",
       "      <td>i3dgAM1hWY9UdUCNMDnLXQ</td>\n",
       "    </tr>\n",
       "  </tbody>\n",
       "</table>\n",
       "</div>"
      ],
      "text/plain": [
       "   weight                 user_id\n",
       "0       2  pU6GoRTcl1rIOi6zMynjog\n",
       "1       2  NcUMNz6tAahD6mDmuKwYIA\n",
       "2       1  1a36KbE7XH31Uo4fkmdkqQ\n",
       "3       2  7wFpWiJMxePaaGiL_c-_IQ\n",
       "4       2  i3dgAM1hWY9UdUCNMDnLXQ"
      ]
     },
     "execution_count": 220,
     "metadata": {},
     "output_type": "execute_result"
    }
   ],
   "source": [
    "userweight.head()"
   ]
  },
  {
   "cell_type": "code",
   "execution_count": 221,
   "metadata": {},
   "outputs": [],
   "source": [
    "userweight.to_csv('userweight.csv',index=False)"
   ]
  },
  {
   "cell_type": "code",
   "execution_count": null,
   "metadata": {},
   "outputs": [],
   "source": []
  }
 ],
 "metadata": {
  "kernelspec": {
   "display_name": "Python 3",
   "language": "python",
   "name": "python3"
  },
  "language_info": {
   "codemirror_mode": {
    "name": "ipython",
    "version": 3
   },
   "file_extension": ".py",
   "mimetype": "text/x-python",
   "name": "python",
   "nbconvert_exporter": "python",
   "pygments_lexer": "ipython3",
   "version": "3.7.1"
  }
 },
 "nbformat": 4,
 "nbformat_minor": 2
}
