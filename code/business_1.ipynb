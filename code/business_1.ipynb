{
 "cells": [
  {
   "cell_type": "code",
   "execution_count": 3,
   "metadata": {},
   "outputs": [],
   "source": [
    "import json\n",
    "import pandas as pd\n",
    "import numpy as np\n"
   ]
  },
  {
   "cell_type": "code",
   "execution_count": 4,
   "metadata": {},
   "outputs": [],
   "source": [
    "business_list = []\n",
    "with open('business.json', 'r') as f:\n",
    "    for cnt, line in enumerate(f):\n",
    "        try:\n",
    "            line = line.strip('\\n').strip(',')\n",
    "#            json_obj = json.loads(line)\n",
    "            business_list.append(json.loads(line))\n",
    "        except Exception as e:\n",
    "            print(e)\n",
    "            continue\n",
    "business = pd.DataFrame(business_list)"
   ]
  },
  {
   "cell_type": "code",
   "execution_count": 5,
   "metadata": {},
   "outputs": [
    {
     "data": {
      "text/plain": [
       "192609"
      ]
     },
     "execution_count": 5,
     "metadata": {},
     "output_type": "execute_result"
    }
   ],
   "source": [
    "len(business)#total length "
   ]
  },
  {
   "cell_type": "code",
   "execution_count": 6,
   "metadata": {},
   "outputs": [
    {
     "data": {
      "text/plain": [
       "72677"
      ]
     },
     "execution_count": 6,
     "metadata": {},
     "output_type": "execute_result"
    }
   ],
   "source": [
    "business = business[(business['categories'].isnull() ==False)&(business['is_open']==1)&(business['review_count']>10)]\n",
    "len(business)"
   ]
  },
  {
   "cell_type": "code",
   "execution_count": 7,
   "metadata": {},
   "outputs": [
    {
     "data": {
      "text/plain": [
       "1294"
      ]
     },
     "execution_count": 7,
     "metadata": {},
     "output_type": "execute_result"
    }
   ],
   "source": [
    "ice= business[business['categories'].str.contains('Ice Cream')]\n",
    "len(ice)\n"
   ]
  },
  {
   "cell_type": "code",
   "execution_count": 8,
   "metadata": {},
   "outputs": [
    {
     "data": {
      "text/plain": [
       "455"
      ]
     },
     "execution_count": 8,
     "metadata": {},
     "output_type": "execute_result"
    }
   ],
   "source": [
    "ice = ice[(ice['city']=='Pittsburgh')|(ice['city']=='Charlotte')|\n",
    "                    (ice['city']=='Urbana')|(ice['city']=='Phoenix')|(ice['city']=='Las Vegas')|\n",
    "                    (ice['city']=='Madison')|(ice['city']=='Cleveland')]\n",
    "len(ice)\n"
   ]
  },
  {
   "cell_type": "code",
   "execution_count": 9,
   "metadata": {},
   "outputs": [
    {
     "data": {
      "text/plain": [
       "city\n",
       "Charlotte      57\n",
       "Cleveland      24\n",
       "Las Vegas     173\n",
       "Madison        28\n",
       "Phoenix       118\n",
       "Pittsburgh     51\n",
       "Urbana          4\n",
       "dtype: int64"
      ]
     },
     "execution_count": 9,
     "metadata": {},
     "output_type": "execute_result"
    }
   ],
   "source": [
    "ice.groupby('city').size()"
   ]
  },
  {
   "cell_type": "code",
   "execution_count": 10,
   "metadata": {},
   "outputs": [
    {
     "data": {
      "text/plain": [
       "<Figure size 640x480 with 1 Axes>"
      ]
     },
     "metadata": {},
     "output_type": "display_data"
    }
   ],
   "source": [
    "from os import path \n",
    "from PIL import Image \n",
    "from wordcloud import WordCloud, STOPWORDS, ImageColorGenerator \n",
    "import matplotlib.pyplot as plt\n",
    "\n",
    "\n",
    "text = ' '.join(ice['categories']) \n",
    "\n",
    "wordcloud = WordCloud().generate(text)\n",
    "\n",
    "# Display the generated image:\n",
    "plt.imshow(wordcloud, interpolation='bilinear')\n",
    "plt.axis(\"off\")\n",
    "plt.show()"
   ]
  },
  {
   "cell_type": "code",
   "execution_count": 11,
   "metadata": {},
   "outputs": [
    {
     "data": {
      "text/html": [
       "<div>\n",
       "<style scoped>\n",
       "    .dataframe tbody tr th:only-of-type {\n",
       "        vertical-align: middle;\n",
       "    }\n",
       "\n",
       "    .dataframe tbody tr th {\n",
       "        vertical-align: top;\n",
       "    }\n",
       "\n",
       "    .dataframe thead th {\n",
       "        text-align: right;\n",
       "    }\n",
       "</style>\n",
       "<table border=\"1\" class=\"dataframe\">\n",
       "  <thead>\n",
       "    <tr style=\"text-align: right;\">\n",
       "      <th></th>\n",
       "      <th>address</th>\n",
       "      <th>attributes</th>\n",
       "      <th>business_id</th>\n",
       "      <th>categories</th>\n",
       "      <th>city</th>\n",
       "      <th>hours</th>\n",
       "      <th>is_open</th>\n",
       "      <th>latitude</th>\n",
       "      <th>longitude</th>\n",
       "      <th>name</th>\n",
       "      <th>postal_code</th>\n",
       "      <th>review_count</th>\n",
       "      <th>stars</th>\n",
       "      <th>state</th>\n",
       "    </tr>\n",
       "  </thead>\n",
       "  <tbody>\n",
       "    <tr>\n",
       "      <th>411</th>\n",
       "      <td>7800 Fairview Rd</td>\n",
       "      <td>{'WiFi': ''no'', 'BusinessAcceptsCreditCards':...</td>\n",
       "      <td>nwxF9EKLOCpkScMF2utHDw</td>\n",
       "      <td>Ice Cream &amp; Frozen Yogurt, Food, Event Plannin...</td>\n",
       "      <td>Charlotte</td>\n",
       "      <td>{'Monday': '12:0-21:0', 'Tuesday': '12:0-21:0'...</td>\n",
       "      <td>1</td>\n",
       "      <td>35.147358</td>\n",
       "      <td>-80.809568</td>\n",
       "      <td>Ben &amp; Jerry's</td>\n",
       "      <td>28226</td>\n",
       "      <td>19</td>\n",
       "      <td>3.5</td>\n",
       "      <td>NC</td>\n",
       "    </tr>\n",
       "    <tr>\n",
       "      <th>460</th>\n",
       "      <td>115 Meyran Ave</td>\n",
       "      <td>{'BikeParking': 'True', 'BusinessAcceptsCredit...</td>\n",
       "      <td>O-fYUqXjkwNvRfFnlUH6Iw</td>\n",
       "      <td>Bakeries, Event Planning &amp; Services, Caterers,...</td>\n",
       "      <td>Pittsburgh</td>\n",
       "      <td>{'Monday': '9:0-3:0', 'Tuesday': '9:0-3:0', 'W...</td>\n",
       "      <td>1</td>\n",
       "      <td>40.440959</td>\n",
       "      <td>-79.958608</td>\n",
       "      <td>Insomnia Cookies</td>\n",
       "      <td>15213</td>\n",
       "      <td>18</td>\n",
       "      <td>3.0</td>\n",
       "      <td>PA</td>\n",
       "    </tr>\n",
       "    <tr>\n",
       "      <th>1807</th>\n",
       "      <td>2362 Professor Ave</td>\n",
       "      <td>{'BusinessParking': '{'garage': False, 'street...</td>\n",
       "      <td>GhOWffUr9yDBxB5Ceqzc_Q</td>\n",
       "      <td>Food, Ice Cream &amp; Frozen Yogurt</td>\n",
       "      <td>Cleveland</td>\n",
       "      <td>{'Monday': '16:0-21:0', 'Tuesday': '16:0-21:0'...</td>\n",
       "      <td>1</td>\n",
       "      <td>41.480032</td>\n",
       "      <td>-81.685488</td>\n",
       "      <td>Tremont Scoops</td>\n",
       "      <td>44113</td>\n",
       "      <td>89</td>\n",
       "      <td>4.0</td>\n",
       "      <td>OH</td>\n",
       "    </tr>\n",
       "    <tr>\n",
       "      <th>1897</th>\n",
       "      <td>10965 Lavender Hill Dr</td>\n",
       "      <td>{'BikeParking': 'True', 'WiFi': 'u'no'', 'Busi...</td>\n",
       "      <td>I8T4Xsp3Wv7W-RJhsHrTDA</td>\n",
       "      <td>Ice Cream &amp; Frozen Yogurt, Food</td>\n",
       "      <td>Las Vegas</td>\n",
       "      <td>{'Monday': '11:30-21:0', 'Tuesday': '11:30-21:...</td>\n",
       "      <td>1</td>\n",
       "      <td>36.144869</td>\n",
       "      <td>-115.333094</td>\n",
       "      <td>Menchie's Frozen Yogurt</td>\n",
       "      <td>89135</td>\n",
       "      <td>49</td>\n",
       "      <td>3.5</td>\n",
       "      <td>NV</td>\n",
       "    </tr>\n",
       "    <tr>\n",
       "      <th>1969</th>\n",
       "      <td>4845 S Fort Apache Rd</td>\n",
       "      <td>{'BusinessAcceptsCreditCards': 'True', 'Alcoho...</td>\n",
       "      <td>iX2c4IzH_L5F6FM5GD3SUQ</td>\n",
       "      <td>Restaurants, Desserts, Food, Juice Bars &amp; Smoo...</td>\n",
       "      <td>Las Vegas</td>\n",
       "      <td>{'Monday': '0:0-0:0', 'Tuesday': '11:0-22:0', ...</td>\n",
       "      <td>1</td>\n",
       "      <td>36.101690</td>\n",
       "      <td>-115.298150</td>\n",
       "      <td>Tasty Crepes</td>\n",
       "      <td>89147</td>\n",
       "      <td>260</td>\n",
       "      <td>4.5</td>\n",
       "      <td>NV</td>\n",
       "    </tr>\n",
       "  </tbody>\n",
       "</table>\n",
       "</div>"
      ],
      "text/plain": [
       "                     address  \\\n",
       "411         7800 Fairview Rd   \n",
       "460           115 Meyran Ave   \n",
       "1807      2362 Professor Ave   \n",
       "1897  10965 Lavender Hill Dr   \n",
       "1969   4845 S Fort Apache Rd   \n",
       "\n",
       "                                             attributes  \\\n",
       "411   {'WiFi': ''no'', 'BusinessAcceptsCreditCards':...   \n",
       "460   {'BikeParking': 'True', 'BusinessAcceptsCredit...   \n",
       "1807  {'BusinessParking': '{'garage': False, 'street...   \n",
       "1897  {'BikeParking': 'True', 'WiFi': 'u'no'', 'Busi...   \n",
       "1969  {'BusinessAcceptsCreditCards': 'True', 'Alcoho...   \n",
       "\n",
       "                 business_id  \\\n",
       "411   nwxF9EKLOCpkScMF2utHDw   \n",
       "460   O-fYUqXjkwNvRfFnlUH6Iw   \n",
       "1807  GhOWffUr9yDBxB5Ceqzc_Q   \n",
       "1897  I8T4Xsp3Wv7W-RJhsHrTDA   \n",
       "1969  iX2c4IzH_L5F6FM5GD3SUQ   \n",
       "\n",
       "                                             categories        city  \\\n",
       "411   Ice Cream & Frozen Yogurt, Food, Event Plannin...   Charlotte   \n",
       "460   Bakeries, Event Planning & Services, Caterers,...  Pittsburgh   \n",
       "1807                    Food, Ice Cream & Frozen Yogurt   Cleveland   \n",
       "1897                    Ice Cream & Frozen Yogurt, Food   Las Vegas   \n",
       "1969  Restaurants, Desserts, Food, Juice Bars & Smoo...   Las Vegas   \n",
       "\n",
       "                                                  hours  is_open   latitude  \\\n",
       "411   {'Monday': '12:0-21:0', 'Tuesday': '12:0-21:0'...        1  35.147358   \n",
       "460   {'Monday': '9:0-3:0', 'Tuesday': '9:0-3:0', 'W...        1  40.440959   \n",
       "1807  {'Monday': '16:0-21:0', 'Tuesday': '16:0-21:0'...        1  41.480032   \n",
       "1897  {'Monday': '11:30-21:0', 'Tuesday': '11:30-21:...        1  36.144869   \n",
       "1969  {'Monday': '0:0-0:0', 'Tuesday': '11:0-22:0', ...        1  36.101690   \n",
       "\n",
       "       longitude                     name postal_code  review_count  stars  \\\n",
       "411   -80.809568            Ben & Jerry's       28226            19    3.5   \n",
       "460   -79.958608         Insomnia Cookies       15213            18    3.0   \n",
       "1807  -81.685488           Tremont Scoops       44113            89    4.0   \n",
       "1897 -115.333094  Menchie's Frozen Yogurt       89135            49    3.5   \n",
       "1969 -115.298150             Tasty Crepes       89147           260    4.5   \n",
       "\n",
       "     state  \n",
       "411     NC  \n",
       "460     PA  \n",
       "1807    OH  \n",
       "1897    NV  \n",
       "1969    NV  "
      ]
     },
     "execution_count": 11,
     "metadata": {},
     "output_type": "execute_result"
    }
   ],
   "source": [
    "ice.head()"
   ]
  },
  {
   "cell_type": "code",
   "execution_count": 12,
   "metadata": {},
   "outputs": [
    {
     "data": {
      "text/plain": [
       "453"
      ]
     },
     "execution_count": 12,
     "metadata": {},
     "output_type": "execute_result"
    }
   ],
   "source": [
    "ice = ice[(ice['attributes'].isnull() ==False)]\n",
    "len(ice)"
   ]
  },
  {
   "cell_type": "code",
   "execution_count": 13,
   "metadata": {},
   "outputs": [],
   "source": [
    "a=ice['attributes'].to_list()\n",
    "b=[]\n",
    "for i in range(453):\n",
    "    c=list(a[i].keys())\n",
    "    b=b+c\n",
    "\n"
   ]
  },
  {
   "cell_type": "code",
   "execution_count": 18,
   "metadata": {},
   "outputs": [
    {
     "data": {
      "text/plain": [
       "Counter({'WiFi': 426,\n",
       "         'BusinessAcceptsCreditCards': 451,\n",
       "         'RestaurantsPriceRange2': 448,\n",
       "         'BusinessParking': 445,\n",
       "         'BikeParking': 435,\n",
       "         'RestaurantsTakeOut': 442,\n",
       "         'Caters': 365,\n",
       "         'WheelchairAccessible': 127,\n",
       "         'Alcohol': 167,\n",
       "         'OutdoorSeating': 188,\n",
       "         'RestaurantsAttire': 156,\n",
       "         'Ambience': 152,\n",
       "         'RestaurantsDelivery': 207,\n",
       "         'HasTV': 152,\n",
       "         'GoodForMeal': 133,\n",
       "         'RestaurantsReservations': 162,\n",
       "         'GoodForKids': 163,\n",
       "         'NoiseLevel': 129,\n",
       "         'RestaurantsGoodForGroups': 157,\n",
       "         'BusinessAcceptsBitcoin': 78,\n",
       "         'ByAppointmentOnly': 21,\n",
       "         'RestaurantsTableService': 85,\n",
       "         'DriveThru': 45,\n",
       "         'DogsAllowed': 62,\n",
       "         'GoodForDancing': 3,\n",
       "         'BYOBCorkage': 5,\n",
       "         'Smoking': 4,\n",
       "         'HappyHour': 3,\n",
       "         'CoatCheck': 2,\n",
       "         'Music': 2,\n",
       "         'BestNights': 2,\n",
       "         'DietaryRestrictions': 1})"
      ]
     },
     "execution_count": 18,
     "metadata": {},
     "output_type": "execute_result"
    }
   ],
   "source": [
    "import collections\n",
    "collections.Counter(b)"
   ]
  },
  {
   "cell_type": "code",
   "execution_count": 14,
   "metadata": {},
   "outputs": [
    {
     "data": {
      "image/png": "[encoded data removed]",
      "text/plain": [
       "<Figure size 432x288 with 1 Axes>"
      ]
     },
     "metadata": {
      "needs_background": "light"
     },
     "output_type": "display_data"
    }
   ],
   "source": [
    "text = ' '.join(b) \n",
    "\n",
    "wordcloud3 = WordCloud().generate(text)\n",
    "\n",
    "# Display the generated image:\n",
    "plt.imshow(wordcloud3, interpolation='bilinear')\n",
    "plt.axis(\"off\")\n",
    "plt.show()"
   ]
  },
  {
   "cell_type": "code",
   "execution_count": 78,
   "metadata": {},
   "outputs": [
    {
     "data": {
      "text/plain": [
       "['RestaurantsDelivery',\n",
       " 'RestaurantsPriceRange2',\n",
       " 'WiFi',\n",
       " 'Ambience',\n",
       " 'Music',\n",
       " 'DogsAllowed',\n",
       " 'BusinessAcceptsCreditCards',\n",
       " 'GoodForDancing',\n",
       " 'Smoking',\n",
       " 'RestaurantsTableService',\n",
       " 'GoodForMeal',\n",
       " 'RestaurantsGoodForGroups',\n",
       " 'WheelchairAccessible',\n",
       " 'Caters',\n",
       " 'RestaurantsAttire',\n",
       " 'Alcohol',\n",
       " 'RestaurantsReservations',\n",
       " 'DriveThru',\n",
       " 'GoodForKids',\n",
       " 'BestNights',\n",
       " 'BusinessAcceptsBitcoin',\n",
       " 'HappyHour',\n",
       " 'OutdoorSeating',\n",
       " 'ByAppointmentOnly',\n",
       " 'CoatCheck',\n",
       " 'NoiseLevel',\n",
       " 'BusinessParking',\n",
       " 'HasTV',\n",
       " 'DietaryRestrictions',\n",
       " 'BikeParking',\n",
       " 'RestaurantsTakeOut',\n",
       " 'BYOBCorkage']"
      ]
     },
     "execution_count": 78,
     "metadata": {},
     "output_type": "execute_result"
    }
   ],
   "source": [
    "att_list=list(set(b))\n",
    "len(att_list)|"
   ]
  },
  {
   "cell_type": "code",
   "execution_count": 82,
   "metadata": {},
   "outputs": [],
   "source": [
    "for j in range(32):\n",
    "    v=[]\n",
    "    for i in range(453):\n",
    "        vv=a[i].get(att_list[j],'No info')\n",
    "        v.append(vv)\n",
    "    ice[att_list[j]]=v\n"
   ]
  },
  {
   "cell_type": "code",
   "execution_count": 83,
   "metadata": {},
   "outputs": [
    {
     "data": {
      "text/html": [
       "<div>\n",
       "<style scoped>\n",
       "    .dataframe tbody tr th:only-of-type {\n",
       "        vertical-align: middle;\n",
       "    }\n",
       "\n",
       "    .dataframe tbody tr th {\n",
       "        vertical-align: top;\n",
       "    }\n",
       "\n",
       "    .dataframe thead th {\n",
       "        text-align: right;\n",
       "    }\n",
       "</style>\n",
       "<table border=\"1\" class=\"dataframe\">\n",
       "  <thead>\n",
       "    <tr style=\"text-align: right;\">\n",
       "      <th></th>\n",
       "      <th>address</th>\n",
       "      <th>attributes</th>\n",
       "      <th>business_id</th>\n",
       "      <th>categories</th>\n",
       "      <th>city</th>\n",
       "      <th>hours</th>\n",
       "      <th>is_open</th>\n",
       "      <th>latitude</th>\n",
       "      <th>longitude</th>\n",
       "      <th>name</th>\n",
       "      <th>...</th>\n",
       "      <th>ByAppointmentOnly</th>\n",
       "      <th>CoatCheck</th>\n",
       "      <th>NoiseLevel</th>\n",
       "      <th>BusinessParking</th>\n",
       "      <th>HasTV</th>\n",
       "      <th>DietaryRestrictions</th>\n",
       "      <th>BikeParking</th>\n",
       "      <th>RestaurantsTakeOut</th>\n",
       "      <th>BYOBCorkage</th>\n",
       "      <th>garage</th>\n",
       "    </tr>\n",
       "  </thead>\n",
       "  <tbody>\n",
       "    <tr>\n",
       "      <th>411</th>\n",
       "      <td>7800 Fairview Rd</td>\n",
       "      <td>{'WiFi': ''no'', 'BusinessAcceptsCreditCards':...</td>\n",
       "      <td>nwxF9EKLOCpkScMF2utHDw</td>\n",
       "      <td>Ice Cream &amp; Frozen Yogurt, Food, Event Plannin...</td>\n",
       "      <td>Charlotte</td>\n",
       "      <td>{'Monday': '12:0-21:0', 'Tuesday': '12:0-21:0'...</td>\n",
       "      <td>1</td>\n",
       "      <td>35.147358</td>\n",
       "      <td>-80.809568</td>\n",
       "      <td>Ben &amp; Jerry's</td>\n",
       "      <td>...</td>\n",
       "      <td>No info</td>\n",
       "      <td>No info</td>\n",
       "      <td>No info</td>\n",
       "      <td>{'garage': False, 'street': False, 'validated'...</td>\n",
       "      <td>No info</td>\n",
       "      <td>No info</td>\n",
       "      <td>True</td>\n",
       "      <td>True</td>\n",
       "      <td>No info</td>\n",
       "      <td>False</td>\n",
       "    </tr>\n",
       "    <tr>\n",
       "      <th>460</th>\n",
       "      <td>115 Meyran Ave</td>\n",
       "      <td>{'BikeParking': 'True', 'BusinessAcceptsCredit...</td>\n",
       "      <td>O-fYUqXjkwNvRfFnlUH6Iw</td>\n",
       "      <td>Bakeries, Event Planning &amp; Services, Caterers,...</td>\n",
       "      <td>Pittsburgh</td>\n",
       "      <td>{'Monday': '9:0-3:0', 'Tuesday': '9:0-3:0', 'W...</td>\n",
       "      <td>1</td>\n",
       "      <td>40.440959</td>\n",
       "      <td>-79.958608</td>\n",
       "      <td>Insomnia Cookies</td>\n",
       "      <td>...</td>\n",
       "      <td>No info</td>\n",
       "      <td>No info</td>\n",
       "      <td>No info</td>\n",
       "      <td>{'garage': False, 'street': False, 'validated'...</td>\n",
       "      <td>No info</td>\n",
       "      <td>No info</td>\n",
       "      <td>True</td>\n",
       "      <td>True</td>\n",
       "      <td>No info</td>\n",
       "      <td>False</td>\n",
       "    </tr>\n",
       "    <tr>\n",
       "      <th>1807</th>\n",
       "      <td>2362 Professor Ave</td>\n",
       "      <td>{'BusinessParking': '{'garage': False, 'street...</td>\n",
       "      <td>GhOWffUr9yDBxB5Ceqzc_Q</td>\n",
       "      <td>Food, Ice Cream &amp; Frozen Yogurt</td>\n",
       "      <td>Cleveland</td>\n",
       "      <td>{'Monday': '16:0-21:0', 'Tuesday': '16:0-21:0'...</td>\n",
       "      <td>1</td>\n",
       "      <td>41.480032</td>\n",
       "      <td>-81.685488</td>\n",
       "      <td>Tremont Scoops</td>\n",
       "      <td>...</td>\n",
       "      <td>No info</td>\n",
       "      <td>No info</td>\n",
       "      <td>No info</td>\n",
       "      <td>{'garage': False, 'street': True, 'validated':...</td>\n",
       "      <td>No info</td>\n",
       "      <td>No info</td>\n",
       "      <td>True</td>\n",
       "      <td>True</td>\n",
       "      <td>No info</td>\n",
       "      <td>False</td>\n",
       "    </tr>\n",
       "    <tr>\n",
       "      <th>1897</th>\n",
       "      <td>10965 Lavender Hill Dr</td>\n",
       "      <td>{'BikeParking': 'True', 'WiFi': 'u'no'', 'Busi...</td>\n",
       "      <td>I8T4Xsp3Wv7W-RJhsHrTDA</td>\n",
       "      <td>Ice Cream &amp; Frozen Yogurt, Food</td>\n",
       "      <td>Las Vegas</td>\n",
       "      <td>{'Monday': '11:30-21:0', 'Tuesday': '11:30-21:...</td>\n",
       "      <td>1</td>\n",
       "      <td>36.144869</td>\n",
       "      <td>-115.333094</td>\n",
       "      <td>Menchie's Frozen Yogurt</td>\n",
       "      <td>...</td>\n",
       "      <td>No info</td>\n",
       "      <td>No info</td>\n",
       "      <td>No info</td>\n",
       "      <td>{'garage': False, 'street': False, 'validated'...</td>\n",
       "      <td>No info</td>\n",
       "      <td>No info</td>\n",
       "      <td>True</td>\n",
       "      <td>True</td>\n",
       "      <td>No info</td>\n",
       "      <td>False</td>\n",
       "    </tr>\n",
       "    <tr>\n",
       "      <th>1969</th>\n",
       "      <td>4845 S Fort Apache Rd</td>\n",
       "      <td>{'BusinessAcceptsCreditCards': 'True', 'Alcoho...</td>\n",
       "      <td>iX2c4IzH_L5F6FM5GD3SUQ</td>\n",
       "      <td>Restaurants, Desserts, Food, Juice Bars &amp; Smoo...</td>\n",
       "      <td>Las Vegas</td>\n",
       "      <td>{'Monday': '0:0-0:0', 'Tuesday': '11:0-22:0', ...</td>\n",
       "      <td>1</td>\n",
       "      <td>36.101690</td>\n",
       "      <td>-115.298150</td>\n",
       "      <td>Tasty Crepes</td>\n",
       "      <td>...</td>\n",
       "      <td>False</td>\n",
       "      <td>No info</td>\n",
       "      <td>u'quiet'</td>\n",
       "      <td>{'garage': False, 'street': False, 'validated'...</td>\n",
       "      <td>True</td>\n",
       "      <td>No info</td>\n",
       "      <td>True</td>\n",
       "      <td>True</td>\n",
       "      <td>No info</td>\n",
       "      <td>False</td>\n",
       "    </tr>\n",
       "  </tbody>\n",
       "</table>\n",
       "<p>5 rows × 47 columns</p>\n",
       "</div>"
      ],
      "text/plain": [
       "                     address  \\\n",
       "411         7800 Fairview Rd   \n",
       "460           115 Meyran Ave   \n",
       "1807      2362 Professor Ave   \n",
       "1897  10965 Lavender Hill Dr   \n",
       "1969   4845 S Fort Apache Rd   \n",
       "\n",
       "                                             attributes  \\\n",
       "411   {'WiFi': ''no'', 'BusinessAcceptsCreditCards':...   \n",
       "460   {'BikeParking': 'True', 'BusinessAcceptsCredit...   \n",
       "1807  {'BusinessParking': '{'garage': False, 'street...   \n",
       "1897  {'BikeParking': 'True', 'WiFi': 'u'no'', 'Busi...   \n",
       "1969  {'BusinessAcceptsCreditCards': 'True', 'Alcoho...   \n",
       "\n",
       "                 business_id  \\\n",
       "411   nwxF9EKLOCpkScMF2utHDw   \n",
       "460   O-fYUqXjkwNvRfFnlUH6Iw   \n",
       "1807  GhOWffUr9yDBxB5Ceqzc_Q   \n",
       "1897  I8T4Xsp3Wv7W-RJhsHrTDA   \n",
       "1969  iX2c4IzH_L5F6FM5GD3SUQ   \n",
       "\n",
       "                                             categories        city  \\\n",
       "411   Ice Cream & Frozen Yogurt, Food, Event Plannin...   Charlotte   \n",
       "460   Bakeries, Event Planning & Services, Caterers,...  Pittsburgh   \n",
       "1807                    Food, Ice Cream & Frozen Yogurt   Cleveland   \n",
       "1897                    Ice Cream & Frozen Yogurt, Food   Las Vegas   \n",
       "1969  Restaurants, Desserts, Food, Juice Bars & Smoo...   Las Vegas   \n",
       "\n",
       "                                                  hours  is_open   latitude  \\\n",
       "411   {'Monday': '12:0-21:0', 'Tuesday': '12:0-21:0'...        1  35.147358   \n",
       "460   {'Monday': '9:0-3:0', 'Tuesday': '9:0-3:0', 'W...        1  40.440959   \n",
       "1807  {'Monday': '16:0-21:0', 'Tuesday': '16:0-21:0'...        1  41.480032   \n",
       "1897  {'Monday': '11:30-21:0', 'Tuesday': '11:30-21:...        1  36.144869   \n",
       "1969  {'Monday': '0:0-0:0', 'Tuesday': '11:0-22:0', ...        1  36.101690   \n",
       "\n",
       "       longitude                     name  ... ByAppointmentOnly  CoatCheck  \\\n",
       "411   -80.809568            Ben & Jerry's  ...           No info    No info   \n",
       "460   -79.958608         Insomnia Cookies  ...           No info    No info   \n",
       "1807  -81.685488           Tremont Scoops  ...           No info    No info   \n",
       "1897 -115.333094  Menchie's Frozen Yogurt  ...           No info    No info   \n",
       "1969 -115.298150             Tasty Crepes  ...             False    No info   \n",
       "\n",
       "      NoiseLevel                                    BusinessParking    HasTV  \\\n",
       "411      No info  {'garage': False, 'street': False, 'validated'...  No info   \n",
       "460      No info  {'garage': False, 'street': False, 'validated'...  No info   \n",
       "1807     No info  {'garage': False, 'street': True, 'validated':...  No info   \n",
       "1897     No info  {'garage': False, 'street': False, 'validated'...  No info   \n",
       "1969    u'quiet'  {'garage': False, 'street': False, 'validated'...     True   \n",
       "\n",
       "     DietaryRestrictions BikeParking RestaurantsTakeOut BYOBCorkage garage  \n",
       "411              No info        True               True     No info  False  \n",
       "460              No info        True               True     No info  False  \n",
       "1807             No info        True               True     No info  False  \n",
       "1897             No info        True               True     No info  False  \n",
       "1969             No info        True               True     No info  False  \n",
       "\n",
       "[5 rows x 47 columns]"
      ]
     },
     "execution_count": 83,
     "metadata": {},
     "output_type": "execute_result"
    }
   ],
   "source": [
    "ice.head()"
   ]
  },
  {
   "cell_type": "code",
   "execution_count": 84,
   "metadata": {},
   "outputs": [
    {
     "data": {
      "image/png": "[encoded data removed]",
      "text/plain": [
       "<Figure size 432x288 with 1 Axes>"
      ]
     },
     "metadata": {
      "needs_background": "light"
     },
     "output_type": "display_data"
    }
   ],
   "source": [
    "collections.Counter(ice['stars'])\n",
    "ice.groupby('stars')['name'].nunique().plot(kind='bar')\n",
    "plt.show()"
   ]
  },
  {
   "cell_type": "code",
   "execution_count": 91,
   "metadata": {},
   "outputs": [
    {
     "data": {
      "image/png": "[encoded data removed]",
      "text/plain": [
       "<Figure size 432x288 with 1 Axes>"
      ]
     },
     "metadata": {
      "needs_background": "light"
     },
     "output_type": "display_data"
    }
   ],
   "source": [
    "ice.groupby(['stars','RestaurantsDelivery']).size().unstack().plot(kind='bar',stacked=True)\n",
    "plt.show()"
   ]
  },
  {
   "cell_type": "code",
   "execution_count": 87,
   "metadata": {},
   "outputs": [
    {
     "data": {
      "image/png": "[encoded data removed]",
      "text/plain": [
       "<Figure size 432x288 with 1 Axes>"
      ]
     },
     "metadata": {
      "needs_background": "light"
     },
     "output_type": "display_data"
    }
   ],
   "source": [
    "ice.groupby(['stars','RestaurantsPriceRange2']).size().unstack().plot(kind='bar',stacked=True)\n",
    "plt.show()"
   ]
  },
  {
   "cell_type": "code",
   "execution_count": 115,
   "metadata": {},
   "outputs": [
    {
     "data": {
      "text/plain": [
       "[104, 101, 302]"
      ]
     },
     "execution_count": 115,
     "metadata": {},
     "output_type": "execute_result"
    }
   ],
   "source": [
    "nowifi=[i for i in range(453) if list(ice['WiFi'])[i]==\"'no'\"]+[i for i in range(453) if list(ice['WiFi'])[i]==\"u'no'\"]\n",
    "freewifi=[i for i in range(453) if list(ice['WiFi'])[i]==\"'free'\"]+[i for i in range(453) if list(ice['WiFi'])[i]==\"u'free'\"]\n",
    "paidwifi=[i for i in range(453) if list(ice['WiFi'])[i]==\"'paid'\"]+[i for i in range(453) if list(ice['WiFi'])[i]==\"u'paid'\"]"
   ]
  },
  {
   "cell_type": "code",
   "execution_count": 116,
   "metadata": {},
   "outputs": [],
   "source": [
    "for i in range(453):\n",
    "    if i in nowifi:\n",
    "        v[i]='No wifi'\n",
    "    if i in freewifi:\n",
    "        v[i]='Free wifi'\n",
    "    if i in paidwifi:\n",
    "        v[i]=\"Paid wifi\"\n",
    "ice['WiFi']=v"
   ]
  },
  {
   "cell_type": "code",
   "execution_count": 118,
   "metadata": {},
   "outputs": [
    {
     "data": {
      "image/png": "[encoded data removed]",
      "text/plain": [
       "<Figure size 432x288 with 1 Axes>"
      ]
     },
     "metadata": {
      "needs_background": "light"
     },
     "output_type": "display_data"
    }
   ],
   "source": [
    "ice.groupby(['stars','WiFi']).size().unstack().plot(kind='bar',stacked=True)\n",
    "plt.show()"
   ]
  },
  {
   "cell_type": "code",
   "execution_count": 120,
   "metadata": {},
   "outputs": [
    {
     "data": {
      "image/png": "[encoded data removed]",
      "text/plain": [
       "<Figure size 432x288 with 1 Axes>"
      ]
     },
     "metadata": {
      "needs_background": "light"
     },
     "output_type": "display_data"
    }
   ],
   "source": [
    "ice.groupby(['stars','BusinessAcceptsCreditCards']).size().unstack().plot(kind='bar',stacked=True)\n",
    "plt.show()"
   ]
  },
  {
   "cell_type": "code",
   "execution_count": 121,
   "metadata": {},
   "outputs": [],
   "source": [
    "bp=ice['BusinessParking'].to_list()\n",
    "nobp=[i for i in range(453) if bp[i] == 'No info'] +[i for i in range(453) if bp[i] == 'None'] "
   ]
  },
  {
   "cell_type": "code",
   "execution_count": 125,
   "metadata": {},
   "outputs": [],
   "source": [
    "import ast\n",
    "for i in range(453):\n",
    "    if i in nobp:\n",
    "        v[i]='No info'\n",
    "    else:\n",
    "        v[i]=ast.literal_eval(bp[i]).get('garage',\"\")\n",
    "ice['garage']=v\n",
    "for i in range(453):\n",
    "    if i in nobp:\n",
    "        v[i]='No info'\n",
    "    else:\n",
    "        v[i]=ast.literal_eval(bp[i]).get('street',\"\")\n",
    "ice['street']=v\n",
    "for i in range(453):\n",
    "    if i in nobp:\n",
    "        v[i]='No info'\n",
    "    else:\n",
    "        v[i]=ast.literal_eval(bp[i]).get('validated',\"\")\n",
    "ice['validated']=v\n",
    "for i in range(453):\n",
    "    if i in nobp:\n",
    "        v[i]='No info'\n",
    "    else:\n",
    "        v[i]=ast.literal_eval(bp[i]).get('lot',\"\")\n",
    "ice['lot']=v\n",
    "for i in range(453):\n",
    "    if i in nobp:\n",
    "        v[i]='No info'\n",
    "    else:\n",
    "        v[i]=ast.literal_eval(bp[i]).get('valet',\"\")\n",
    "ice['valet']=v"
   ]
  },
  {
   "cell_type": "code",
   "execution_count": 126,
   "metadata": {},
   "outputs": [
    {
     "data": {
      "text/html": [
       "<div>\n",
       "<style scoped>\n",
       "    .dataframe tbody tr th:only-of-type {\n",
       "        vertical-align: middle;\n",
       "    }\n",
       "\n",
       "    .dataframe tbody tr th {\n",
       "        vertical-align: top;\n",
       "    }\n",
       "\n",
       "    .dataframe thead th {\n",
       "        text-align: right;\n",
       "    }\n",
       "</style>\n",
       "<table border=\"1\" class=\"dataframe\">\n",
       "  <thead>\n",
       "    <tr style=\"text-align: right;\">\n",
       "      <th></th>\n",
       "      <th>address</th>\n",
       "      <th>attributes</th>\n",
       "      <th>business_id</th>\n",
       "      <th>categories</th>\n",
       "      <th>city</th>\n",
       "      <th>hours</th>\n",
       "      <th>is_open</th>\n",
       "      <th>latitude</th>\n",
       "      <th>longitude</th>\n",
       "      <th>name</th>\n",
       "      <th>...</th>\n",
       "      <th>HasTV</th>\n",
       "      <th>DietaryRestrictions</th>\n",
       "      <th>BikeParking</th>\n",
       "      <th>RestaurantsTakeOut</th>\n",
       "      <th>BYOBCorkage</th>\n",
       "      <th>garage</th>\n",
       "      <th>street</th>\n",
       "      <th>validated</th>\n",
       "      <th>lot</th>\n",
       "      <th>valet</th>\n",
       "    </tr>\n",
       "  </thead>\n",
       "  <tbody>\n",
       "    <tr>\n",
       "      <th>411</th>\n",
       "      <td>7800 Fairview Rd</td>\n",
       "      <td>{'WiFi': ''no'', 'BusinessAcceptsCreditCards':...</td>\n",
       "      <td>nwxF9EKLOCpkScMF2utHDw</td>\n",
       "      <td>Ice Cream &amp; Frozen Yogurt, Food, Event Plannin...</td>\n",
       "      <td>Charlotte</td>\n",
       "      <td>{'Monday': '12:0-21:0', 'Tuesday': '12:0-21:0'...</td>\n",
       "      <td>1</td>\n",
       "      <td>35.147358</td>\n",
       "      <td>-80.809568</td>\n",
       "      <td>Ben &amp; Jerry's</td>\n",
       "      <td>...</td>\n",
       "      <td>No info</td>\n",
       "      <td>No info</td>\n",
       "      <td>True</td>\n",
       "      <td>True</td>\n",
       "      <td>No info</td>\n",
       "      <td>False</td>\n",
       "      <td>False</td>\n",
       "      <td>False</td>\n",
       "      <td>True</td>\n",
       "      <td>False</td>\n",
       "    </tr>\n",
       "    <tr>\n",
       "      <th>460</th>\n",
       "      <td>115 Meyran Ave</td>\n",
       "      <td>{'BikeParking': 'True', 'BusinessAcceptsCredit...</td>\n",
       "      <td>O-fYUqXjkwNvRfFnlUH6Iw</td>\n",
       "      <td>Bakeries, Event Planning &amp; Services, Caterers,...</td>\n",
       "      <td>Pittsburgh</td>\n",
       "      <td>{'Monday': '9:0-3:0', 'Tuesday': '9:0-3:0', 'W...</td>\n",
       "      <td>1</td>\n",
       "      <td>40.440959</td>\n",
       "      <td>-79.958608</td>\n",
       "      <td>Insomnia Cookies</td>\n",
       "      <td>...</td>\n",
       "      <td>No info</td>\n",
       "      <td>No info</td>\n",
       "      <td>True</td>\n",
       "      <td>True</td>\n",
       "      <td>No info</td>\n",
       "      <td>False</td>\n",
       "      <td>False</td>\n",
       "      <td>False</td>\n",
       "      <td>False</td>\n",
       "      <td>False</td>\n",
       "    </tr>\n",
       "    <tr>\n",
       "      <th>1807</th>\n",
       "      <td>2362 Professor Ave</td>\n",
       "      <td>{'BusinessParking': '{'garage': False, 'street...</td>\n",
       "      <td>GhOWffUr9yDBxB5Ceqzc_Q</td>\n",
       "      <td>Food, Ice Cream &amp; Frozen Yogurt</td>\n",
       "      <td>Cleveland</td>\n",
       "      <td>{'Monday': '16:0-21:0', 'Tuesday': '16:0-21:0'...</td>\n",
       "      <td>1</td>\n",
       "      <td>41.480032</td>\n",
       "      <td>-81.685488</td>\n",
       "      <td>Tremont Scoops</td>\n",
       "      <td>...</td>\n",
       "      <td>No info</td>\n",
       "      <td>No info</td>\n",
       "      <td>True</td>\n",
       "      <td>True</td>\n",
       "      <td>No info</td>\n",
       "      <td>False</td>\n",
       "      <td>True</td>\n",
       "      <td>False</td>\n",
       "      <td>False</td>\n",
       "      <td>False</td>\n",
       "    </tr>\n",
       "    <tr>\n",
       "      <th>1897</th>\n",
       "      <td>10965 Lavender Hill Dr</td>\n",
       "      <td>{'BikeParking': 'True', 'WiFi': 'u'no'', 'Busi...</td>\n",
       "      <td>I8T4Xsp3Wv7W-RJhsHrTDA</td>\n",
       "      <td>Ice Cream &amp; Frozen Yogurt, Food</td>\n",
       "      <td>Las Vegas</td>\n",
       "      <td>{'Monday': '11:30-21:0', 'Tuesday': '11:30-21:...</td>\n",
       "      <td>1</td>\n",
       "      <td>36.144869</td>\n",
       "      <td>-115.333094</td>\n",
       "      <td>Menchie's Frozen Yogurt</td>\n",
       "      <td>...</td>\n",
       "      <td>No info</td>\n",
       "      <td>No info</td>\n",
       "      <td>True</td>\n",
       "      <td>True</td>\n",
       "      <td>No info</td>\n",
       "      <td>False</td>\n",
       "      <td>False</td>\n",
       "      <td>False</td>\n",
       "      <td>True</td>\n",
       "      <td>False</td>\n",
       "    </tr>\n",
       "    <tr>\n",
       "      <th>1969</th>\n",
       "      <td>4845 S Fort Apache Rd</td>\n",
       "      <td>{'BusinessAcceptsCreditCards': 'True', 'Alcoho...</td>\n",
       "      <td>iX2c4IzH_L5F6FM5GD3SUQ</td>\n",
       "      <td>Restaurants, Desserts, Food, Juice Bars &amp; Smoo...</td>\n",
       "      <td>Las Vegas</td>\n",
       "      <td>{'Monday': '0:0-0:0', 'Tuesday': '11:0-22:0', ...</td>\n",
       "      <td>1</td>\n",
       "      <td>36.101690</td>\n",
       "      <td>-115.298150</td>\n",
       "      <td>Tasty Crepes</td>\n",
       "      <td>...</td>\n",
       "      <td>True</td>\n",
       "      <td>No info</td>\n",
       "      <td>True</td>\n",
       "      <td>True</td>\n",
       "      <td>No info</td>\n",
       "      <td>False</td>\n",
       "      <td>False</td>\n",
       "      <td>False</td>\n",
       "      <td>True</td>\n",
       "      <td>False</td>\n",
       "    </tr>\n",
       "  </tbody>\n",
       "</table>\n",
       "<p>5 rows × 51 columns</p>\n",
       "</div>"
      ],
      "text/plain": [
       "                     address  \\\n",
       "411         7800 Fairview Rd   \n",
       "460           115 Meyran Ave   \n",
       "1807      2362 Professor Ave   \n",
       "1897  10965 Lavender Hill Dr   \n",
       "1969   4845 S Fort Apache Rd   \n",
       "\n",
       "                                             attributes  \\\n",
       "411   {'WiFi': ''no'', 'BusinessAcceptsCreditCards':...   \n",
       "460   {'BikeParking': 'True', 'BusinessAcceptsCredit...   \n",
       "1807  {'BusinessParking': '{'garage': False, 'street...   \n",
       "1897  {'BikeParking': 'True', 'WiFi': 'u'no'', 'Busi...   \n",
       "1969  {'BusinessAcceptsCreditCards': 'True', 'Alcoho...   \n",
       "\n",
       "                 business_id  \\\n",
       "411   nwxF9EKLOCpkScMF2utHDw   \n",
       "460   O-fYUqXjkwNvRfFnlUH6Iw   \n",
       "1807  GhOWffUr9yDBxB5Ceqzc_Q   \n",
       "1897  I8T4Xsp3Wv7W-RJhsHrTDA   \n",
       "1969  iX2c4IzH_L5F6FM5GD3SUQ   \n",
       "\n",
       "                                             categories        city  \\\n",
       "411   Ice Cream & Frozen Yogurt, Food, Event Plannin...   Charlotte   \n",
       "460   Bakeries, Event Planning & Services, Caterers,...  Pittsburgh   \n",
       "1807                    Food, Ice Cream & Frozen Yogurt   Cleveland   \n",
       "1897                    Ice Cream & Frozen Yogurt, Food   Las Vegas   \n",
       "1969  Restaurants, Desserts, Food, Juice Bars & Smoo...   Las Vegas   \n",
       "\n",
       "                                                  hours  is_open   latitude  \\\n",
       "411   {'Monday': '12:0-21:0', 'Tuesday': '12:0-21:0'...        1  35.147358   \n",
       "460   {'Monday': '9:0-3:0', 'Tuesday': '9:0-3:0', 'W...        1  40.440959   \n",
       "1807  {'Monday': '16:0-21:0', 'Tuesday': '16:0-21:0'...        1  41.480032   \n",
       "1897  {'Monday': '11:30-21:0', 'Tuesday': '11:30-21:...        1  36.144869   \n",
       "1969  {'Monday': '0:0-0:0', 'Tuesday': '11:0-22:0', ...        1  36.101690   \n",
       "\n",
       "       longitude                     name  ...    HasTV  DietaryRestrictions  \\\n",
       "411   -80.809568            Ben & Jerry's  ...  No info              No info   \n",
       "460   -79.958608         Insomnia Cookies  ...  No info              No info   \n",
       "1807  -81.685488           Tremont Scoops  ...  No info              No info   \n",
       "1897 -115.333094  Menchie's Frozen Yogurt  ...  No info              No info   \n",
       "1969 -115.298150             Tasty Crepes  ...     True              No info   \n",
       "\n",
       "      BikeParking RestaurantsTakeOut BYOBCorkage garage street validated  \\\n",
       "411          True               True     No info  False  False     False   \n",
       "460          True               True     No info  False  False     False   \n",
       "1807         True               True     No info  False   True     False   \n",
       "1897         True               True     No info  False  False     False   \n",
       "1969         True               True     No info  False  False     False   \n",
       "\n",
       "        lot  valet  \n",
       "411    True  False  \n",
       "460   False  False  \n",
       "1807  False  False  \n",
       "1897   True  False  \n",
       "1969   True  False  \n",
       "\n",
       "[5 rows x 51 columns]"
      ]
     },
     "execution_count": 126,
     "metadata": {},
     "output_type": "execute_result"
    }
   ],
   "source": []
  },
  {
   "cell_type": "code",
   "execution_count": 150,
   "metadata": {},
   "outputs": [
    {
     "data": {
      "image/png": "[encoded data removed]",
      "text/plain": [
       "<Figure size 432x288 with 1 Axes>"
      ]
     },
     "metadata": {},
     "output_type": "display_data"
    }
   ],
   "source": [
    "group_names=['1-2', '2-3', '3-4','4-5']\n",
    "group_size=[28,98,195,132]\n",
    "subgroup_names=['yes','no','yes','no','yes','no','yes','no']\n",
    "subgroup_size=[11,17,88,10,183,12,119,13]\n",
    "a, b, c,d=[plt.cm.Blues, plt.cm.Reds, plt.cm.Greens,plt.cm.binary]\n",
    " \n",
    "# First Ring (outside)\n",
    "fig, ax = plt.subplots()\n",
    "ax.axis('equal')\n",
    "mypie, _ = ax.pie(group_size, radius=1.3, labels=group_names, colors=[a(0.6), b(0.6), c(0.6),d(0.6)] )\n",
    "plt.setp( mypie, width=0.3, edgecolor='white')\n",
    " \n",
    "# Second Ring (Inside)\n",
    "mypie2, _ = ax.pie(subgroup_size, radius=1.3-0.3, labels=subgroup_names, labeldistance=0.7, colors=[a(0.4), a(0.2), b(0.4), b(0.2), c(0.4), c(0.2),d(0.4), d(0.2)])\n",
    "plt.margins(0,0)\n",
    " \n",
    "# show it\n",
    "plt.show()\n"
   ]
  },
  {
   "cell_type": "code",
   "execution_count": 135,
   "metadata": {},
   "outputs": [
    {
     "data": {
      "image/png": "[encoded data removed]",
      "text/plain": [
       "<Figure size 432x288 with 1 Axes>"
      ]
     },
     "metadata": {},
     "output_type": "display_data"
    }
   ],
   "source": [
    "group_names=['garage', 'street', 'validated','lot','valet']\n",
    "group_size=[80,80,4,225,9]\n",
    "subgroup_names=['1-2', '2-3', '3-4', '4-5', '1-2', '2-3', '3-4', '4-5','1-2','2-3','3-4','4-5','1-2','2-3','3-4','4-5','1-2','2-3','3-4','4-5']\n",
    "subgroup_size=[2,39,29,10,0,7,39,34,0,0,1,3,9,48,98,70,0,1,6,2]\n",
    "a, b, c,d,e=[plt.cm.Blues, plt.cm.Reds, plt.cm.Greens,plt.cm.binary,plt.cm.PuOr]\n",
    " \n",
    "# First Ring (outside)\n",
    "fig, ax = plt.subplots()\n",
    "ax.axis('equal')\n",
    "mypie, _ = ax.pie(group_size, radius=1.3, labels=group_names, colors=[a(0.6), b(0.6), c(0.6),d(0.6),e(0.6)] )\n",
    "plt.setp( mypie, width=0.3, edgecolor='white')\n",
    " \n",
    "# Second Ring (Inside)\n",
    "mypie2, _ = ax.pie(subgroup_size, radius=1.3-0.3, labels=subgroup_names, labeldistance=0.7, colors=[a(0.5), a(0.4), a(0.3),a(0.2), b(0.5), b(0.4),b(0.3),b(0.2), c(0.5), c(0.4), c(0.3), c(0.2),d(0.5), d(0.4), d(0.3), d(0.2),e(0.5), e(0.4), e(0.3), e(0.2)])\n",
    "plt.setp( mypie2, width=0.4, edgecolor='white')\n",
    "plt.margins(0,0)\n",
    " \n",
    "# show it\n",
    "plt.show()\n",
    "\n"
   ]
  },
  {
   "cell_type": "code",
   "execution_count": 143,
   "metadata": {},
   "outputs": [
    {
     "data": {
      "image/png": "[encoded data removed]",
      "text/plain": [
       "<Figure size 432x288 with 1 Axes>"
      ]
     },
     "metadata": {
      "needs_background": "light"
     },
     "output_type": "display_data"
    }
   ],
   "source": [
    "ice.groupby(['stars','BikeParking']).size().unstack().plot(kind='bar',stacked=True)\n",
    "plt.show()"
   ]
  },
  {
   "cell_type": "code",
   "execution_count": 145,
   "metadata": {},
   "outputs": [
    {
     "data": {
      "image/png": "[encoded data removed]",
      "text/plain": [
       "<Figure size 432x288 with 1 Axes>"
      ]
     },
     "metadata": {
      "needs_background": "light"
     },
     "output_type": "display_data"
    }
   ],
   "source": [
    "ice.groupby(['stars','RestaurantsTakeOut']).size().unstack().plot(kind='bar',stacked=True)\n",
    "plt.show()"
   ]
  },
  {
   "cell_type": "code",
   "execution_count": 147,
   "metadata": {},
   "outputs": [
    {
     "data": {
      "image/png": "[encoded data removed]",
      "text/plain": [
       "<Figure size 432x288 with 1 Axes>"
      ]
     },
     "metadata": {
      "needs_background": "light"
     },
     "output_type": "display_data"
    }
   ],
   "source": [
    "ice.groupby(['stars','Caters']).size().unstack().plot(kind='bar',stacked=True)\n",
    "plt.show()"
   ]
  },
  {
   "cell_type": "code",
   "execution_count": 149,
   "metadata": {},
   "outputs": [
    {
     "data": {
      "image/png": "[encoded data removed]",
      "text/plain": [
       "<Figure size 432x288 with 1 Axes>"
      ]
     },
     "metadata": {
      "needs_background": "light"
     },
     "output_type": "display_data"
    }
   ],
   "source": [
    "ice.groupby(['stars','RestaurantsDelivery']).size().unstack().plot(kind='bar',stacked=True)\n",
    "plt.show()"
   ]
  },
  {
   "cell_type": "code",
   "execution_count": null,
   "metadata": {},
   "outputs": [],
   "source": []
  }
 ],
 "metadata": {
  "kernelspec": {
   "display_name": "Python 3",
   "language": "python",
   "name": "python3"
  },
  "language_info": {
   "codemirror_mode": {
    "name": "ipython",
    "version": 3
   },
   "file_extension": ".py",
   "mimetype": "text/x-python",
   "name": "python",
   "nbconvert_exporter": "python",
   "pygments_lexer": "ipython3",
   "version": "3.7.3"
  }
 },
 "nbformat": 4,
 "nbformat_minor": 2
}
